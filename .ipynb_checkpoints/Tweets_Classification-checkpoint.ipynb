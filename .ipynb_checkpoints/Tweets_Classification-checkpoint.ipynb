{
 "cells": [
  {
   "cell_type": "code",
   "execution_count": null,
   "metadata": {},
   "outputs": [],
   "source": [
    "import tweepy\n",
    "import sys\n",
    "\n",
    "class MystreamListener(tweepy.StreamListener):\n",
    "    def on_status(self, status):\n",
    "        print(status.text)\n",
    "        \n",
    "    def on_error(self, status_code):\n",
    "        print(status_code)\n",
    "        \n",
    "consumer_key = \"PUguMvi95VvyRFQo36hxOC7go\"\n",
    "consumer_secret = \"wvkYQkS1be0pEGAwZa8OG63WSAblBVL82LYq6zMunfvXnvAo9I\"\n",
    "acces_token = \"1355101267908038656-x9Mofj6nYYpQKT62Gnq3gNFibby0FP\"\n",
    "access_token_secret = \"9GOFcNJ2sOFhT3MMLRkijfRdDFdTAyDiQnWMPK9xndz5M\"\n",
    "\n",
    "auth = tweepy.OAuthHandler(consumer_key, consumer_secret)\n",
    "auth.set_access_token(acces_token, access_token_secret)\n",
    "api = tweepy.API(auth)\n",
    "\n",
    "if (not api):\n",
    "    print(\"Authentication failed\")\n",
    "    sys.exit(-1)\n",
    "    \n",
    "MyStreamListener = MystreamListener()\n",
    "myStream = tweepy.Stream(auth = api.auth, listener = MyStreamListener)\n",
    "myStream.filter(track=['covid'])\n",
    "    "
   ]
  },
  {
   "cell_type": "code",
   "execution_count": null,
   "metadata": {},
   "outputs": [],
   "source": []
  }
 ],
 "metadata": {
  "kernelspec": {
   "display_name": "Python 3",
   "language": "python",
   "name": "python3"
  },
  "language_info": {
   "codemirror_mode": {
    "name": "ipython",
    "version": 3
   },
   "file_extension": ".py",
   "mimetype": "text/x-python",
   "name": "python",
   "nbconvert_exporter": "python",
   "pygments_lexer": "ipython3",
   "version": "3.6.5"
  }
 },
 "nbformat": 4,
 "nbformat_minor": 2
}
